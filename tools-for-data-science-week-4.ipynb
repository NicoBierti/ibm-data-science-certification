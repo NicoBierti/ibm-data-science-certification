{
 "cells": [
  {
   "cell_type": "markdown",
   "id": "db761de9-a6ac-403e-bab6-8744cf99982f",
   "metadata": {},
   "source": [
    "# My Jupyter Notebook on IBM Watson Studio"
   ]
  },
  {
   "cell_type": "markdown",
   "id": "781caa9a-6e88-40bc-bdfb-0fbc2bb4f383",
   "metadata": {},
   "source": [
    "**Nicolas Bierti del Rey** \n",
    "\n",
    "Data Scientist"
   ]
  },
  {
   "cell_type": "markdown",
   "id": "7a71842e-2ac4-4f0a-a4f3-ee6dbcfd1121",
   "metadata": {},
   "source": [
    "*Im interested in Data Science because of the positive impact it can do on the world*"
   ]
  },
  {
   "cell_type": "markdown",
   "id": "da06561f-aaeb-4c91-98b8-992bf627c2ac",
   "metadata": {},
   "source": [
    "### The following code will print numbers from 1 to 5"
   ]
  },
  {
   "cell_type": "code",
   "execution_count": 2,
   "id": "2fe3de2c-423b-4f81-b217-7254e6ff1313",
   "metadata": {},
   "outputs": [
    {
     "name": "stdout",
     "output_type": "stream",
     "text": [
      "1\n",
      "2\n",
      "3\n",
      "4\n",
      "5\n"
     ]
    }
   ],
   "source": [
    "for i in range (1,6):\n",
    "    print(i)"
   ]
  },
  {
   "cell_type": "markdown",
   "id": "cf5fceb4-88a0-452e-9c48-96fe4b94bc60",
   "metadata": {},
   "source": [
    "- one\n",
    "- two\n",
    "- three\n",
    "- four\n",
    "- five"
   ]
  }
 ],
 "metadata": {
  "kernelspec": {
   "display_name": "Python 3 (ipykernel)",
   "language": "python",
   "name": "python3"
  },
  "language_info": {
   "codemirror_mode": {
    "name": "ipython",
    "version": 3
   },
   "file_extension": ".py",
   "mimetype": "text/x-python",
   "name": "python",
   "nbconvert_exporter": "python",
   "pygments_lexer": "ipython3",
   "version": "3.8.12"
  }
 },
 "nbformat": 4,
 "nbformat_minor": 5
}
